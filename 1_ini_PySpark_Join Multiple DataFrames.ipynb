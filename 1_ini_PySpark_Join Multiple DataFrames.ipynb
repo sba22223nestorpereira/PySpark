{
  "nbformat": 4,
  "nbformat_minor": 0,
  "metadata": {
    "colab": {
      "provenance": [],
      "authorship_tag": "ABX9TyNnklpBviwf2Vu/2AO0l6vX",
      "include_colab_link": true
    },
    "kernelspec": {
      "name": "python3",
      "display_name": "Python 3"
    },
    "language_info": {
      "name": "python"
    }
  },
  "cells": [
    {
      "cell_type": "markdown",
      "metadata": {
        "id": "view-in-github",
        "colab_type": "text"
      },
      "source": [
        "<a href=\"https://colab.research.google.com/github/sba22223nestorpereira/PySpark/blob/main/1_ini_PySpark_Join%20Multiple%20DataFrames.ipynb\" target=\"_parent\"><img src=\"https://colab.research.google.com/assets/colab-badge.svg\" alt=\"Open In Colab\"/></a>"
      ]
    },
    {
      "cell_type": "code",
      "execution_count": null,
      "metadata": {
        "id": "IPUvKN3Ncsvr"
      },
      "outputs": [],
      "source": [
        "!apt-get install openjdk-8-jdk-headless -qq > /dev/null\n",
        "!wget -q http://archive.apache.org/dist/spark/spark-3.1.1/spark-3.1.1-bin-hadoop3.2.tgz\n",
        "!tar xf spark-3.1.1-bin-hadoop3.2.tgz\n",
        "!pip install -q findspark"
      ]
    },
    {
      "cell_type": "code",
      "source": [
        "import os\n",
        "os.environ[\"JAVA_HOME\"] = \"/usr/lib/jvm/java-8-openjdk-amd64\"\n",
        "os.environ[\"SPARK_HOME\"] = \"/content/spark-3.1.1-bin-hadoop3.2\""
      ],
      "metadata": {
        "id": "qZItpKhGdJ_b"
      },
      "execution_count": null,
      "outputs": []
    },
    {
      "cell_type": "markdown",
      "source": [
        "What is **SparkContext** \n",
        "Spark SparkContext is an entry point to Spark and defined in org.apache.spark package since 1.x and used to programmatically create **Spark RDD**, accumulators and broadcast variables on the cluster. Since Spark 2.0 most of the functionalities (methods) available in SparkContext are also available in SparkSession. Its object **sc **\n",
        "\n",
        "What is  **SparkSession**\n",
        "SparkSession introduced in version 2.0 and and is an entry point to underlying Spark functionality in order to programmatically create **Spark RDD, DataFrame and DataSet**. It’s object **spark** is default\n",
        "\n"
      ],
      "metadata": {
        "id": "dcJIeY9xfTjQ"
      }
    },
    {
      "cell_type": "code",
      "source": [
        "import findspark\n",
        "findspark.init()\n",
        "\n",
        "#from pyspark import SparkConf, SparkContext\n",
        "#conf = SparkConf().setMaster(\"local\").setAppName(\"CCT App\")\n",
        "#sc = SparkContext(conf = conf)\n",
        "\n",
        "from pyspark.sql import SparkSession\n",
        "\n",
        "#spark = SparkSession.builder\\\n",
        "#        .master(\"local\")\\\n",
        "#        .appName(\"Colab\")\\\n",
        "#        .config('spark.ui.port', '4050')\\\n",
        "#        .getOrCreate()\n",
        "\n",
        "spark = SparkSession.builder.master(\"local[*]\").appName(\"cct\").getOrCreate()\n",
        "\n",
        "spark.conf.set(\"spark.sql.repl.eagerEval.enabled\", True) # Property used to format output tables better\n",
        "\n",
        "spark"
      ],
      "metadata": {
        "colab": {
          "base_uri": "https://localhost:8080/",
          "height": 221
        },
        "id": "srA-kmxDdPbm",
        "outputId": "cb458a64-959a-4566-9112-894c5f56d742"
      },
      "execution_count": null,
      "outputs": [
        {
          "output_type": "execute_result",
          "data": {
            "text/plain": [
              "<pyspark.sql.session.SparkSession at 0x7f9d54bf80a0>"
            ],
            "text/html": [
              "\n",
              "            <div>\n",
              "                <p><b>SparkSession - in-memory</b></p>\n",
              "                \n",
              "        <div>\n",
              "            <p><b>SparkContext</b></p>\n",
              "\n",
              "            <p><a href=\"http://7903b1ef9a35:4040\">Spark UI</a></p>\n",
              "\n",
              "            <dl>\n",
              "              <dt>Version</dt>\n",
              "                <dd><code>v3.1.1</code></dd>\n",
              "              <dt>Master</dt>\n",
              "                <dd><code>local[*]</code></dd>\n",
              "              <dt>AppName</dt>\n",
              "                <dd><code>pyspark-shell</code></dd>\n",
              "            </dl>\n",
              "        </div>\n",
              "        \n",
              "            </div>\n",
              "        "
            ]
          },
          "metadata": {},
          "execution_count": 4
        }
      ]
    },
    {
      "cell_type": "markdown",
      "source": [
        "View the **Spark UI**\n"
      ],
      "metadata": {
        "id": "3-LydXUwoPKW"
      }
    },
    {
      "cell_type": "code",
      "source": [
        "#!wget https://bin.equinox.io/c/4VmDzA7iaHb/ngrok-stable-linux-amd64.zip\n",
        "#!unzip ngrok-stable-linux-amd64.zip\n",
        "#get_ipython().system_raw('./ngrok http 4040 &')\n",
        "#!curl -s http://localhost:4040/api/tunnels"
      ],
      "metadata": {
        "id": "ZgF55gEEoOK0"
      },
      "execution_count": null,
      "outputs": []
    },
    {
      "cell_type": "code",
      "source": [
        "# -*- coding: utf-8 -*-\n",
        "\"\"\"\n",
        "author SparkByExamples.com\n",
        "\"\"\"\n",
        "\n",
        "from pyspark.sql import SparkSession\n",
        "\n",
        "# Create SparkSession\n",
        "spark = SparkSession.builder \\\n",
        "          .appName('SparkByExamples.com') \\\n",
        "          .getOrCreate()\n",
        "#EMP DataFrame\n",
        "empData = [(1,\"Smith\",10), (2,\"Rose\",20),\n",
        "    (3,\"Williams\",10), (4,\"Jones\",30)\n",
        "  ]\n",
        "empColumns = [\"emp_id\",\"name\",\"emp_dept_id\"]\n",
        "empDF = spark.createDataFrame(empData,empColumns)\n",
        "empDF.show()\n",
        "\n",
        "#DEPT DataFrame\n",
        "deptData = [(\"Finance\",10), (\"Marketing\",20),\n",
        "    (\"Sales\",30),(\"IT\",40)\n",
        "  ]\n",
        "deptColumns = [\"dept_name\",\"dept_id\"]\n",
        "deptDF=spark.createDataFrame(deptData,deptColumns)  \n",
        "deptDF.show()\n",
        "\n",
        "#Address DataFrame\n",
        "addData=[(1,\"1523 Main St\",\"SFO\",\"CA\"),\n",
        "    (2,\"3453 Orange St\",\"SFO\",\"NY\"),\n",
        "    (3,\"34 Warner St\",\"Jersey\",\"NJ\"),\n",
        "    (4,\"221 Cavalier St\",\"Newark\",\"DE\"),\n",
        "    (5,\"789 Walnut St\",\"Sandiago\",\"CA\")\n",
        "  ]\n",
        "addColumns = [\"emp_id\",\"addline1\",\"city\",\"state\"]\n",
        "addDF = spark.createDataFrame(addData,addColumns)\n",
        "addDF.show()\n",
        "\n",
        "#Join two DataFrames\n",
        "empDF.join(addDF,empDF[\"emp_id\"] == addDF[\"emp_id\"]).show()\n",
        "\n",
        "#Drop duplicate column\n",
        "empDF.join(addDF,[\"emp_id\"]).show()\n",
        "\n",
        "#Join Multiple DataFrames\n",
        "empDF.join(addDF,[\"emp_id\"]) \\\n",
        "     .join(deptDF,empDF[\"emp_dept_id\"] == deptDF[\"dept_id\"]) \\\n",
        "     .show()\n",
        "\n",
        "#Using Where for Join Condition\n",
        "empDF.join(deptDF).where(empDF[\"emp_dept_id\"] == deptDF[\"dept_id\"]) \\\n",
        "    .join(addDF).where(empDF[\"emp_id\"] == addDF[\"emp_id\"]) \\\n",
        "    .show()\n",
        "    \n",
        "#SQL\n",
        "empDF.createOrReplaceTempView(\"EMP\")\n",
        "deptDF.createOrReplaceTempView(\"DEPT\")\n",
        "addDF.createOrReplaceTempView(\"ADD\")\n",
        "\n",
        "spark.sql(\"select * from EMP e, DEPT d, ADD a \" + \\\n",
        "    \"where e.emp_dept_id == d.dept_id and e.emp_id == a.emp_id\") \\\n",
        "    .show()\n",
        "    \n",
        "#\n",
        "df1 = spark.createDataFrame(\n",
        "    [(1, \"A\"), (2, \"B\"), (3, \"C\")],\n",
        "    [\"A1\", \"A2\"])\n",
        "\n",
        "df2 = spark.createDataFrame(\n",
        "    [(1, \"F\"), (2, \"B\")], \n",
        "    [\"B1\", \"B2\"])\n",
        "\n",
        "df = df1.join(df2, (df1.A1 == df2.B1) & (df1.A2 == df2.B2))\n",
        "df.show()"
      ],
      "metadata": {
        "id": "Q0BybLdo3XZV"
      },
      "execution_count": null,
      "outputs": []
    }
  ]
}
{
  "nbformat": 4,
  "nbformat_minor": 0,
  "metadata": {
    "colab": {
      "provenance": [],
      "include_colab_link": true
    },
    "kernelspec": {
      "name": "python3",
      "display_name": "Python 3"
    },
    "language_info": {
      "name": "python"
    },
    "accelerator": "GPU",
    "gpuClass": "standard"
  },
  "cells": [
    {
      "cell_type": "markdown",
      "metadata": {
        "id": "view-in-github",
        "colab_type": "text"
      },
      "source": [
        "<a href=\"https://colab.research.google.com/github/sba22223nestorpereira/PySpark/blob/main/df_in_spark_with_gnu%20v2.ipynb\" target=\"_parent\"><img src=\"https://colab.research.google.com/assets/colab-badge.svg\" alt=\"Open In Colab\"/></a>"
      ]
    },
    {
      "cell_type": "code",
      "execution_count": 1,
      "metadata": {
        "id": "pMYsNAnZp9qd"
      },
      "outputs": [],
      "source": [
        "!apt-get install openjdk-8-jdk-headless -qq > /dev/null\n",
        "!wget -q http://archive.apache.org/dist/spark/spark-3.1.1/spark-3.1.1-bin-hadoop3.2.tgz\n",
        "!tar xf spark-3.1.1-bin-hadoop3.2.tgz\n",
        "!pip install -q findspark"
      ]
    },
    {
      "cell_type": "code",
      "source": [
        "import os\n",
        "os.environ[\"JAVA_HOME\"] = \"/usr/lib/jvm/java-8-openjdk-amd64\"\n",
        "os.environ[\"SPARK_HOME\"] = \"/content/spark-3.1.1-bin-hadoop3.2\""
      ],
      "metadata": {
        "id": "ALxsvyGvqg7P"
      },
      "execution_count": 2,
      "outputs": []
    },
    {
      "cell_type": "code",
      "source": [
        "import findspark\n",
        "findspark.init()\n",
        "\n",
        "#from pyspark import SparkConf, SparkContext\n",
        "#conf = SparkConf().setMaster(\"local\").setAppName(\"CCT App\")\n",
        "#sc = SparkContext(conf = conf)\n",
        "\n",
        "from pyspark.sql import SparkSession\n",
        "\n",
        "#spark = SparkSession.builder\\\n",
        "#        .master(\"local\")\\\n",
        "#        .appName(\"Colab\")\\\n",
        "#        .config('spark.ui.port', '4050')\\\n",
        "#        .getOrCreate()\n",
        "\n",
        "spark = SparkSession.builder.master(\"local[*]\").appName(\"cct\").getOrCreate()\n",
        "\n",
        "spark.conf.set(\"spark.sql.repl.eagerEval.enabled\", True) # Property used to format output tables better\n",
        "\n",
        "spark"
      ],
      "metadata": {
        "colab": {
          "base_uri": "https://localhost:8080/",
          "height": 221
        },
        "id": "XDvD1frsqh8W",
        "outputId": "fe289f7b-cfb2-42dc-aebe-5381af299ff5"
      },
      "execution_count": 3,
      "outputs": [
        {
          "output_type": "execute_result",
          "data": {
            "text/plain": [
              "<pyspark.sql.session.SparkSession at 0x7f0b7b46fc10>"
            ],
            "text/html": [
              "\n",
              "            <div>\n",
              "                <p><b>SparkSession - in-memory</b></p>\n",
              "                \n",
              "        <div>\n",
              "            <p><b>SparkContext</b></p>\n",
              "\n",
              "            <p><a href=\"http://a2a0561782cd:4040\">Spark UI</a></p>\n",
              "\n",
              "            <dl>\n",
              "              <dt>Version</dt>\n",
              "                <dd><code>v3.1.1</code></dd>\n",
              "              <dt>Master</dt>\n",
              "                <dd><code>local[*]</code></dd>\n",
              "              <dt>AppName</dt>\n",
              "                <dd><code>cct</code></dd>\n",
              "            </dl>\n",
              "        </div>\n",
              "        \n",
              "            </div>\n",
              "        "
            ]
          },
          "metadata": {},
          "execution_count": 3
        }
      ]
    },
    {
      "cell_type": "markdown",
      "source": [
        "create a **Spark dataframe**."
      ],
      "metadata": {
        "id": "__0wa2qRqxQv"
      }
    },
    {
      "cell_type": "code",
      "source": [
        "df = spark.read.csv(\"train.csv\", header=True, inferSchema=True)"
      ],
      "metadata": {
        "id": "201oTg8WqwTX"
      },
      "execution_count": 10,
      "outputs": []
    },
    {
      "cell_type": "code",
      "source": [
        "df.printSchema()"
      ],
      "metadata": {
        "id": "_hhJDZ3xqwed",
        "outputId": "422fa93f-831e-45a4-abaa-e76002c817c4",
        "colab": {
          "base_uri": "https://localhost:8080/"
        }
      },
      "execution_count": 11,
      "outputs": [
        {
          "output_type": "stream",
          "name": "stdout",
          "text": [
            "root\n",
            " |-- survived: integer (nullable = true)\n",
            " |-- pclass: integer (nullable = true)\n",
            " |-- sex: string (nullable = true)\n",
            " |-- age: double (nullable = true)\n",
            " |-- sibsp: integer (nullable = true)\n",
            " |-- parch: integer (nullable = true)\n",
            " |-- fare: double (nullable = true)\n",
            " |-- embarked: string (nullable = true)\n",
            " |-- class: string (nullable = true)\n",
            " |-- who: string (nullable = true)\n",
            " |-- adult_male: boolean (nullable = true)\n",
            " |-- deck: string (nullable = true)\n",
            " |-- embark_town: string (nullable = true)\n",
            " |-- alive: string (nullable = true)\n",
            " |-- alone: boolean (nullable = true)\n",
            "\n"
          ]
        }
      ]
    },
    {
      "cell_type": "code",
      "source": [
        "df.show(5)"
      ],
      "metadata": {
        "id": "d_5RDe-lqwyu",
        "outputId": "3341f918-1192-4478-8d97-8c71b09618eb",
        "colab": {
          "base_uri": "https://localhost:8080/"
        }
      },
      "execution_count": 12,
      "outputs": [
        {
          "output_type": "stream",
          "name": "stdout",
          "text": [
            "+--------+------+------+----+-----+-----+-------+--------+-----+-----+----------+----+-----------+-----+-----+\n",
            "|survived|pclass|   sex| age|sibsp|parch|   fare|embarked|class|  who|adult_male|deck|embark_town|alive|alone|\n",
            "+--------+------+------+----+-----+-----+-------+--------+-----+-----+----------+----+-----------+-----+-----+\n",
            "|       0|     3|  male|22.0|    1|    0|   7.25|       S|Third|  man|      true|null|Southampton|   no|false|\n",
            "|       1|     1|female|38.0|    1|    0|71.2833|       C|First|woman|     false|   C|  Cherbourg|  yes|false|\n",
            "|       1|     3|female|26.0|    0|    0|  7.925|       S|Third|woman|     false|null|Southampton|  yes| true|\n",
            "|       1|     1|female|35.0|    1|    0|   53.1|       S|First|woman|     false|   C|Southampton|  yes|false|\n",
            "|       0|     3|  male|35.0|    0|    0|   8.05|       S|Third|  man|      true|null|Southampton|   no| true|\n",
            "+--------+------+------+----+-----+-----+-------+--------+-----+-----+----------+----+-----------+-----+-----+\n",
            "only showing top 5 rows\n",
            "\n"
          ]
        }
      ]
    },
    {
      "cell_type": "code",
      "source": [
        "df.count()"
      ],
      "metadata": {
        "id": "0Bf7wb6rszN1",
        "outputId": "31544fa2-f0c7-4086-f5db-84bc24a2c863",
        "colab": {
          "base_uri": "https://localhost:8080/"
        }
      },
      "execution_count": 13,
      "outputs": [
        {
          "output_type": "execute_result",
          "data": {
            "text/plain": [
              "891"
            ]
          },
          "metadata": {},
          "execution_count": 13
        }
      ]
    },
    {
      "cell_type": "code",
      "source": [
        "df.select(\"survived\",\"pclass\",\"age\",\"sex\").show(5)"
      ],
      "metadata": {
        "id": "G0dacz8Ws2P9",
        "outputId": "373797e5-29d0-4ded-e574-860791629075",
        "colab": {
          "base_uri": "https://localhost:8080/"
        }
      },
      "execution_count": 14,
      "outputs": [
        {
          "output_type": "stream",
          "name": "stdout",
          "text": [
            "+--------+------+----+------+\n",
            "|survived|pclass| age|   sex|\n",
            "+--------+------+----+------+\n",
            "|       0|     3|22.0|  male|\n",
            "|       1|     1|38.0|female|\n",
            "|       1|     3|26.0|female|\n",
            "|       1|     1|35.0|female|\n",
            "|       0|     3|35.0|  male|\n",
            "+--------+------+----+------+\n",
            "only showing top 5 rows\n",
            "\n"
          ]
        }
      ]
    },
    {
      "cell_type": "code",
      "source": [
        "df.describe().show()"
      ],
      "metadata": {
        "id": "os2z1gzgs5Qc",
        "outputId": "c36007d1-ba60-45e1-cffe-e7228bcf8a68",
        "colab": {
          "base_uri": "https://localhost:8080/"
        }
      },
      "execution_count": 15,
      "outputs": [
        {
          "output_type": "stream",
          "name": "stdout",
          "text": [
            "+-------+-------------------+------------------+------+------------------+------------------+-------------------+-----------------+--------+-----+-----+----+-----------+-----+\n",
            "|summary|           survived|            pclass|   sex|               age|             sibsp|              parch|             fare|embarked|class|  who|deck|embark_town|alive|\n",
            "+-------+-------------------+------------------+------+------------------+------------------+-------------------+-----------------+--------+-----+-----+----+-----------+-----+\n",
            "|  count|                891|               891|   891|               714|               891|                891|              891|     889|  891|  891| 203|        889|  891|\n",
            "|   mean| 0.3838383838383838| 2.308641975308642|  null| 29.69911764705882|0.5230078563411896|0.38159371492704824| 32.2042079685746|    null| null| null|null|       null| null|\n",
            "| stddev|0.48659245426485753|0.8360712409770491|  null|14.526497332334035|1.1027434322934315| 0.8060572211299488|49.69342859718089|    null| null| null|null|       null| null|\n",
            "|    min|                  0|                 1|female|              0.42|                 0|                  0|              0.0|       C|First|child|   A|  Cherbourg|   no|\n",
            "|    max|                  1|                 3|  male|              80.0|                 8|                  6|         512.3292|       S|Third|woman|   G|Southampton|  yes|\n",
            "+-------+-------------------+------------------+------+------------------+------------------+-------------------+-----------------+--------+-----+-----+----+-----------+-----+\n",
            "\n"
          ]
        }
      ]
    },
    {
      "cell_type": "code",
      "source": [
        "df.select(\"sibsp\").distinct().show()"
      ],
      "metadata": {
        "id": "wT8EGbOUs7eV",
        "outputId": "327b78f6-b77c-4fb1-84b2-a28e727b567e",
        "colab": {
          "base_uri": "https://localhost:8080/"
        }
      },
      "execution_count": 16,
      "outputs": [
        {
          "output_type": "stream",
          "name": "stdout",
          "text": [
            "+-----+\n",
            "|sibsp|\n",
            "+-----+\n",
            "|    1|\n",
            "|    3|\n",
            "|    5|\n",
            "|    4|\n",
            "|    8|\n",
            "|    2|\n",
            "|    0|\n",
            "+-----+\n",
            "\n"
          ]
        }
      ]
    },
    {
      "cell_type": "code",
      "source": [
        "from pyspark.sql import functions as F\n",
        "df.groupBy(\"pclass\").agg(F.sum(\"survived\")).show()"
      ],
      "metadata": {
        "id": "iITPCgMXs9v3",
        "outputId": "d1bdaf1f-0ee1-4a2a-94ad-857ba1cdf137",
        "colab": {
          "base_uri": "https://localhost:8080/"
        }
      },
      "execution_count": 17,
      "outputs": [
        {
          "output_type": "stream",
          "name": "stdout",
          "text": [
            "+------+-------------+\n",
            "|pclass|sum(survived)|\n",
            "+------+-------------+\n",
            "|     1|          136|\n",
            "|     3|          119|\n",
            "|     2|           87|\n",
            "+------+-------------+\n",
            "\n"
          ]
        }
      ]
    },
    {
      "cell_type": "code",
      "source": [
        "df.select([F.count(F.when(F.isnull(c), c)).alias(c) for c in df.columns]).show()"
      ],
      "metadata": {
        "id": "Cy1hOlXwtAWz",
        "outputId": "b06bf989-3e67-491a-d520-a20a9e408c69",
        "colab": {
          "base_uri": "https://localhost:8080/"
        }
      },
      "execution_count": 18,
      "outputs": [
        {
          "output_type": "stream",
          "name": "stdout",
          "text": [
            "+--------+------+---+---+-----+-----+----+--------+-----+---+----------+----+-----------+-----+-----+\n",
            "|survived|pclass|sex|age|sibsp|parch|fare|embarked|class|who|adult_male|deck|embark_town|alive|alone|\n",
            "+--------+------+---+---+-----+-----+----+--------+-----+---+----------+----+-----------+-----+-----+\n",
            "|       0|     0|  0|177|    0|    0|   0|       2|    0|  0|         0| 688|          2|    0|    0|\n",
            "+--------+------+---+---+-----+-----+----+--------+-----+---+----------+----+-----------+-----+-----+\n",
            "\n"
          ]
        }
      ]
    },
    {
      "cell_type": "code",
      "source": [
        "df = df.fillna({'Product_Category_2':0, 'Product_Category_3':0})"
      ],
      "metadata": {
        "id": "ER58Ya2HtEPc"
      },
      "execution_count": null,
      "outputs": []
    },
    {
      "cell_type": "code",
      "source": [
        "df.select([F.count(F.when(F.isnull(c), c)).alias(c) for c in df.columns]).show()"
      ],
      "metadata": {
        "id": "oNtRW9MHtH7V"
      },
      "execution_count": null,
      "outputs": []
    },
    {
      "cell_type": "code",
      "source": [
        "df.write.csv(\"/content/drive/My Drive/AV articles/PySpark on Colab/preprocessed_data\")"
      ],
      "metadata": {
        "id": "mq6smihMtKwa"
      },
      "execution_count": null,
      "outputs": []
    },
    {
      "cell_type": "code",
      "source": [
        "df.rdd.getNumPartitions()"
      ],
      "metadata": {
        "id": "Y_ocjaKmtN5J"
      },
      "execution_count": null,
      "outputs": []
    },
    {
      "cell_type": "code",
      "source": [
        "# Spark df to Pandas df\n",
        "df_pd = df.toPandas()\n",
        "\n",
        "# Store result\n",
        "df_pd.to_csv(\"pandas_preprocessed_data.csv\")\n"
      ],
      "metadata": {
        "id": "Ph-C38J-tP_C"
      },
      "execution_count": 20,
      "outputs": []
    },
    {
      "cell_type": "code",
      "source": [],
      "metadata": {
        "id": "l2cDPHVmtTL5"
      },
      "execution_count": null,
      "outputs": []
    },
    {
      "cell_type": "code",
      "source": [],
      "metadata": {
        "id": "t_FYgt6GtUmH"
      },
      "execution_count": null,
      "outputs": []
    }
  ]
}